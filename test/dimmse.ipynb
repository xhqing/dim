{
 "cells": [
  {
   "cell_type": "code",
   "execution_count": 1,
   "metadata": {},
   "outputs": [
    {
     "name": "stdout",
     "output_type": "stream",
     "text": [
      "time= 1554608684.9386842 epoch= 0 loss= 143.29846028532566\n",
      "time= 1554608687.042932 epoch= 100 loss= 6.960817547179627\n",
      "time= 1554608689.1201763 epoch= 200 loss= 6.578931709398441\n",
      "total time: 6.275617361068726\n"
     ]
    }
   ],
   "source": [
    "import time\n",
    "import sys\n",
    "sys.path.append(\"..\")\n",
    "import dim\n",
    "x=dim.randint(0,10,1000,300)\n",
    "y=dim.randint(0,9,(1000,1))\n",
    "seq=dim.nn.Sequential(\n",
    "  dim.nn.Linear(300,10),\n",
    "  dim.nn.ReLU(),\n",
    "  dim.nn.Linear(10,1)\n",
    ")\n",
    "optim = dim.optim.Adam(seq.parameters())\n",
    "#optim = dim.optim.SGD(seq.parameters())\n",
    "#optim = dim.optim.Adamax(seq.parameters())\n",
    "#optim = dim.optim.RMSprop(seq.parameters())\n",
    "#criterion=dim.nn.CrossEntropyLoss()\n",
    "criterion = dim.nn.MSELoss()\n",
    "pred = seq(x)\n",
    "loss=criterion(pred,y)\n",
    "start=time.time()\n",
    "for i in range(300):\n",
    "  if (i):\n",
    "    loss.backward()\n",
    "    optim.step()\n",
    "    optim.zeroGrad()\n",
    "    #loss.gradFn.clearData()\n",
    "  pred = seq(x)\n",
    "  loss=criterion(pred,y)\n",
    "\n",
    "  if (i%100==0):\n",
    "    print(\"time=\",time.time(),\"epoch=\",i,\"loss=\",loss.gradFn.eval(True).value())\n",
    "    #print(optim.state)\n",
    "    #if v<(loss.gradFn.eval().value()*1.05):\n",
    "    #  break\n",
    "    #v=loss.gradFn.eval().value()\n",
    "end=time.time()\n",
    "print(\"total time:\",end-start)"
   ]
  },
  {
   "cell_type": "code",
   "execution_count": 2,
   "metadata": {},
   "outputs": [
    {
     "name": "stdout",
     "output_type": "stream",
     "text": [
      "error: 6.456696121674011\n"
     ]
    }
   ],
   "source": [
    "for i in range(0):\n",
    "    loss.gradFn.eval().backward()\n",
    "    optim.step()\n",
    "    optim.zeroGrad()\n",
    "    loss.gradFn.clearData()\n",
    "print(\"error:\",loss.gradFn.eval())"
   ]
  },
  {
   "cell_type": "code",
   "execution_count": 3,
   "metadata": {},
   "outputs": [
    {
     "name": "stdout",
     "output_type": "stream",
     "text": [
      "mean((const793517[1000*1]-((relu(((const886427[1000*300]@var456975[300*10])+var278208[10]))@var094496[10*1])+var265523[1]))^[2.0])\n"
     ]
    },
    {
     "data": {
      "text/plain": [
       "[{'name': 'var456975',\n",
       "  'expression': '([0.0]-(((([0.0]+const659576[300*10])+[0.0])+[0.0])+[0.0]))'},\n",
       " {'name': 'var278208',\n",
       "  'expression': '([0.0]-(((([0.0]+[0.0])+(reluDeri(((const886427[1000*300]@var456975[300*10])+var278208[10]))*const996743[1000*10]))+[0.0])+[0.0]))'},\n",
       " {'name': 'var094496',\n",
       "  'expression': '([0.0]-(((([0.0]+[0.0])+[0.0])+const003158[10*1])+[0.0]))'},\n",
       " {'name': 'var265523',\n",
       "  'expression': '([0.0]-(((([0.0]+[0.0])+[0.0])+[0.0])+(([2.0]*(const793517[1000*1]-((relu(((const886427[1000*300]@var456975[300*10])+var278208[10]))@var094496[10*1])+var265523[1]))^[1.0])*(const195485[1000*1]*1.0))))'}]"
      ]
     },
     "execution_count": 3,
     "metadata": {},
     "output_type": "execute_result"
    }
   ],
   "source": [
    "loss.gradFn.clearData()\n",
    "loss.backward()\n",
    "print(loss.expression())\n",
    "loss.gradExpression()"
   ]
  },
  {
   "cell_type": "code",
   "execution_count": 4,
   "metadata": {},
   "outputs": [],
   "source": [
    "loss.backward()"
   ]
  },
  {
   "cell_type": "code",
   "execution_count": 5,
   "metadata": {},
   "outputs": [
    {
     "data": {
      "text/plain": [
       "[Vector(-1.75170687),\n",
       " Vector(-0.00208056),\n",
       " Vector(0.09369339),\n",
       " Vector(-0.03383806)]"
      ]
     },
     "execution_count": 5,
     "metadata": {},
     "output_type": "execute_result"
    }
   ],
   "source": [
    "loss.gradFn.clearData()\n",
    "list(loss.gradFn._grads[x].eval().sum() for x in loss.gradFn._grads)"
   ]
  },
  {
   "cell_type": "code",
   "execution_count": 6,
   "metadata": {},
   "outputs": [
    {
     "name": "stdout",
     "output_type": "stream",
     "text": [
      "[(Vector(-99.96223126), Vector(-3.50341373)), (Vector(0.05319817), Vector(-0.00416111)), (Vector(2.20866985), Vector(0.18738677)), (Vector(1.22636611), Vector(-0.06767611))]\n"
     ]
    }
   ],
   "source": [
    "print(list((x.sum(),x.grad is not None and x.grad.sum()) for x in seq.parameters()))\n",
    "optim.step()\n",
    "optim.zeroGrad()"
   ]
  },
  {
   "cell_type": "code",
   "execution_count": 7,
   "metadata": {},
   "outputs": [
    {
     "data": {
      "text/plain": [
       "'mean((const793517[1000*1]-((relu(((const886427[1000*300]@var456975[300*10])+var278208[10]))@var094496[10*1])+var265523[1]))^[2.0])'"
      ]
     },
     "execution_count": 7,
     "metadata": {},
     "output_type": "execute_result"
    }
   ],
   "source": [
    "loss.expression()"
   ]
  },
  {
   "cell_type": "code",
   "execution_count": 8,
   "metadata": {},
   "outputs": [
    {
     "data": {
      "text/plain": [
       "[{'name': 'var456975',\n",
       "  'expression': '([0.0]-(((([0.0]+const659576[300*10])+[0.0])+[0.0])+[0.0]))'},\n",
       " {'name': 'var278208',\n",
       "  'expression': '([0.0]-(((([0.0]+[0.0])+(reluDeri(((const886427[1000*300]@var456975[300*10])+var278208[10]))*const996743[1000*10]))+[0.0])+[0.0]))'},\n",
       " {'name': 'var094496',\n",
       "  'expression': '([0.0]-(((([0.0]+[0.0])+[0.0])+const003158[10*1])+[0.0]))'},\n",
       " {'name': 'var265523',\n",
       "  'expression': '([0.0]-(((([0.0]+[0.0])+[0.0])+[0.0])+(([2.0]*(const793517[1000*1]-((relu(((const886427[1000*300]@var456975[300*10])+var278208[10]))@var094496[10*1])+var265523[1]))^[1.0])*(const195485[1000*1]*1.0))))'}]"
      ]
     },
     "execution_count": 8,
     "metadata": {},
     "output_type": "execute_result"
    }
   ],
   "source": [
    "loss.gradExpression()\n"
   ]
  },
  {
   "cell_type": "code",
   "execution_count": 9,
   "metadata": {},
   "outputs": [
    {
     "data": {
      "text/plain": [
       "(Vector(-1.75170687),\n",
       " Vector(0.05331295),\n",
       " Vector(0.09369339),\n",
       " Vector(-0.03383806))"
      ]
     },
     "execution_count": 9,
     "metadata": {},
     "output_type": "execute_result"
    }
   ],
   "source": [
    "loss.backward()\n",
    "tuple((seq.parameters()[0].grad.sum(),\n",
    "seq.parameters()[1].sum(),\n",
    "seq.parameters()[2].grad.sum(),\n",
    "seq.parameters()[3].grad.sum()))\n"
   ]
  },
  {
   "cell_type": "code",
   "execution_count": null,
   "metadata": {},
   "outputs": [],
   "source": []
  },
  {
   "cell_type": "code",
   "execution_count": null,
   "metadata": {},
   "outputs": [],
   "source": []
  }
 ],
 "metadata": {
  "kernelspec": {
   "display_name": "Python 3 (ipykernel)",
   "language": "python",
   "name": "python3"
  },
  "language_info": {
   "codemirror_mode": {
    "name": "ipython",
    "version": 3
   },
   "file_extension": ".py",
   "mimetype": "text/x-python",
   "name": "python",
   "nbconvert_exporter": "python",
   "pygments_lexer": "ipython3",
   "version": "3.9.7"
  }
 },
 "nbformat": 4,
 "nbformat_minor": 4
}
